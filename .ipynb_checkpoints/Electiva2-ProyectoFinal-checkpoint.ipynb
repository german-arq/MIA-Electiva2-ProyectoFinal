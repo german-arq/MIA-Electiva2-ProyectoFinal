{
 "cells": [
  {
   "cell_type": "markdown",
   "id": "f9efabf7",
   "metadata": {},
   "source": [
    "# PROYECTO FINAL - PREDICCIÓN DE TIPO DE BIEN DE PROPIEDAD HORIZONTAL\n",
    "**Maestria en Inteligencia Artificial - Electiva 2** \\\n",
    "*Estudiante:* Germán Andrés Rojas Mahecha"
   ]
  },
  {
   "cell_type": "markdown",
   "id": "aad0d867",
   "metadata": {},
   "source": [
    "## Caso de Negocio\n"
   ]
  },
  {
   "cell_type": "markdown",
   "id": "a6e71d62",
   "metadata": {},
   "source": [
    "**Contexto:** Uno de los requisitos de un proyecto inmobiliario para su escrituración y entrega a los propietarios finales es contar con una licencia de propiedad horizontal (PH). Este proceso consiste en el desarrollo de una serie de documentos técnicos donde se describe un proyecto arquitectonico bajo los criterios de la Ley 675 de 2001 que rige en Colombia la Propiedad Horizontal, y estos se radican ante Curaduría o Secretaría de Planeación según el municipio donde se ubique el proyecto. Estos documentos técnicos de PH son desarrollados por arquitectos especializados en el tema. \\\n",
    "**Problema específico a resolver**: La importancia de los documentos técnicos radica en establecer de manera precisa si cada uno de los espacios o áreas que comprenden el proyecto arquitectónico son Bienes Privados o Bienes Comunes. Este proceso de asignación se realiza de forma manual por parte de los arquitectos. El objetivo de este modelo de ML de clasificación es que basado en una serie de caracteristicas geometricas de cada uno de los bienes realizar la predicción de si es un Bien Privado o un Bien Común, inicialmente como un apoyo en el proceso de control de calidad al realizar los documetnos técnicos de PH, y posteriormente para determinar de manera automatica la clasificación de cada Bien de un proyecto ante el input de un modelo tridimensional espacial no etiquetado."
   ]
  },
  {
   "cell_type": "markdown",
   "id": "dd8f8cec",
   "metadata": {},
   "source": [
    "## Contenido del Dataset"
   ]
  },
  {
   "cell_type": "markdown",
   "id": "559021f8",
   "metadata": {},
   "source": [
    "*El Dataset describe las caracteristicas geometricas mas importantes que describen a un elemento espacial de PH. A continuación se describen las caracteristicas:* \\\n",
    "**Area**: Superficie que cubre el elemento espacial expresada en m2. \\\n",
    "**Perimetro**: Suma de la longitud de todos sus lados expresada en m. \\\n",
    "**Cantidad_Vertices**: Número de vertices que conforman el poligono. A mayor cantidad de vertices mas irregular es el poligono. \\\n",
    "**Contornos_Internos**: Numero de \"huecos\" al interior del elemento espacial, indicando áreas que no son parte de su superficie. \\\n",
    "**Nivel**: Altura en metros sobre el nivel 0 del terreno. Una altura negativa indica que el elemento se encuentra en un sótano, una altura entre 0 y 1.5 metros indica que se encuentra en el nivel de acceso del proyecto, y una altura superior a 1.5 metros indica que se encuentra en el Piso 2 o superior (requiere escalera o ascensor para acceder) \\\n",
    "**RMC_Largo**: Longitud en m (Lado en el eje X del plano orientado en la misma dirección del elemento) del Rectangulo Minimo que contiene al elemento espacial. \\\n",
    "**RMC_Alto**: Alto en m (Lado en el eje Y del plano orientado en la misma dirección del elemento) del Rectangulo Minimo que contiene al elemento espacial. \\\n",
    "**RMC_Ratio**: Relación entre el largo y el alto de del Rectangulo Minimo Contenedor. Expresado como un numero real \\\n",
    "**Tipo_Area_PH**: Categoría de Bien de PH. Caracteristica a predecir. (Privada/Común)\n"
   ]
  },
  {
   "cell_type": "markdown",
   "id": "3dabcd3b",
   "metadata": {},
   "source": [
    "## Exploración"
   ]
  },
  {
   "cell_type": "code",
   "execution_count": 25,
   "id": "1ab7f5db",
   "metadata": {},
   "outputs": [],
   "source": [
    "# Cargar las librerias requeridas\n",
    "import pandas as pd\n",
    "import matplotlib.pyplot as plt\n",
    "import seaborn as sns"
   ]
  },
  {
   "cell_type": "code",
   "execution_count": 26,
   "id": "d3f2fd74",
   "metadata": {},
   "outputs": [],
   "source": [
    "# Cargar el dataset\n",
    "df = pd.read_csv(\"s3://electiva2-proyecto-final/Data/spatial_elements_ph.csv\", usecols=(lambda x: x != 'Objeto_rvt'))"
   ]
  },
  {
   "cell_type": "code",
   "execution_count": 27,
   "id": "b9e969ec",
   "metadata": {},
   "outputs": [
    {
     "data": {
      "text/html": [
       "<div>\n",
       "<style scoped>\n",
       "    .dataframe tbody tr th:only-of-type {\n",
       "        vertical-align: middle;\n",
       "    }\n",
       "\n",
       "    .dataframe tbody tr th {\n",
       "        vertical-align: top;\n",
       "    }\n",
       "\n",
       "    .dataframe thead th {\n",
       "        text-align: right;\n",
       "    }\n",
       "</style>\n",
       "<table border=\"1\" class=\"dataframe\">\n",
       "  <thead>\n",
       "    <tr style=\"text-align: right;\">\n",
       "      <th></th>\n",
       "      <th>Area</th>\n",
       "      <th>perimetro</th>\n",
       "      <th>Cantidad_Vertices</th>\n",
       "      <th>Contornos_Interiores</th>\n",
       "      <th>Nivel</th>\n",
       "      <th>RMC_Largo</th>\n",
       "      <th>RMC_Alto</th>\n",
       "      <th>RMC_Ratio</th>\n",
       "      <th>Tipo_Area_PH</th>\n",
       "    </tr>\n",
       "  </thead>\n",
       "  <tbody>\n",
       "    <tr>\n",
       "      <th>0</th>\n",
       "      <td>43.152</td>\n",
       "      <td>27.22</td>\n",
       "      <td>9</td>\n",
       "      <td>0</td>\n",
       "      <td>1.500</td>\n",
       "      <td>8.01</td>\n",
       "      <td>5.61</td>\n",
       "      <td>1.43</td>\n",
       "      <td>Privada</td>\n",
       "    </tr>\n",
       "    <tr>\n",
       "      <th>1</th>\n",
       "      <td>41.652</td>\n",
       "      <td>26.62</td>\n",
       "      <td>6</td>\n",
       "      <td>0</td>\n",
       "      <td>1.500</td>\n",
       "      <td>7.80</td>\n",
       "      <td>5.52</td>\n",
       "      <td>1.41</td>\n",
       "      <td>Privada</td>\n",
       "    </tr>\n",
       "    <tr>\n",
       "      <th>2</th>\n",
       "      <td>42.204</td>\n",
       "      <td>26.84</td>\n",
       "      <td>7</td>\n",
       "      <td>0</td>\n",
       "      <td>1.500</td>\n",
       "      <td>7.90</td>\n",
       "      <td>5.52</td>\n",
       "      <td>1.43</td>\n",
       "      <td>Privada</td>\n",
       "    </tr>\n",
       "    <tr>\n",
       "      <th>3</th>\n",
       "      <td>42.152</td>\n",
       "      <td>26.84</td>\n",
       "      <td>8</td>\n",
       "      <td>0</td>\n",
       "      <td>1.500</td>\n",
       "      <td>7.90</td>\n",
       "      <td>5.52</td>\n",
       "      <td>1.43</td>\n",
       "      <td>Privada</td>\n",
       "    </tr>\n",
       "    <tr>\n",
       "      <th>4</th>\n",
       "      <td>43.152</td>\n",
       "      <td>27.20</td>\n",
       "      <td>8</td>\n",
       "      <td>0</td>\n",
       "      <td>1.500</td>\n",
       "      <td>8.00</td>\n",
       "      <td>5.62</td>\n",
       "      <td>1.42</td>\n",
       "      <td>Privada</td>\n",
       "    </tr>\n",
       "    <tr>\n",
       "      <th>...</th>\n",
       "      <td>...</td>\n",
       "      <td>...</td>\n",
       "      <td>...</td>\n",
       "      <td>...</td>\n",
       "      <td>...</td>\n",
       "      <td>...</td>\n",
       "      <td>...</td>\n",
       "      <td>...</td>\n",
       "      <td>...</td>\n",
       "    </tr>\n",
       "    <tr>\n",
       "      <th>7987</th>\n",
       "      <td>32.584</td>\n",
       "      <td>122.46</td>\n",
       "      <td>30</td>\n",
       "      <td>0</td>\n",
       "      <td>29.880</td>\n",
       "      <td>6.79</td>\n",
       "      <td>5.99</td>\n",
       "      <td>1.13</td>\n",
       "      <td>Privada</td>\n",
       "    </tr>\n",
       "    <tr>\n",
       "      <th>7988</th>\n",
       "      <td>31.781</td>\n",
       "      <td>119.11</td>\n",
       "      <td>24</td>\n",
       "      <td>0</td>\n",
       "      <td>29.880</td>\n",
       "      <td>7.10</td>\n",
       "      <td>5.84</td>\n",
       "      <td>1.22</td>\n",
       "      <td>Privada</td>\n",
       "    </tr>\n",
       "    <tr>\n",
       "      <th>7989</th>\n",
       "      <td>27.561</td>\n",
       "      <td>85.07</td>\n",
       "      <td>22</td>\n",
       "      <td>0</td>\n",
       "      <td>50.531</td>\n",
       "      <td>6.50</td>\n",
       "      <td>5.66</td>\n",
       "      <td>1.15</td>\n",
       "      <td>Privada</td>\n",
       "    </tr>\n",
       "    <tr>\n",
       "      <th>7990</th>\n",
       "      <td>27.629</td>\n",
       "      <td>78.31</td>\n",
       "      <td>18</td>\n",
       "      <td>0</td>\n",
       "      <td>50.531</td>\n",
       "      <td>6.56</td>\n",
       "      <td>5.56</td>\n",
       "      <td>1.18</td>\n",
       "      <td>Privada</td>\n",
       "    </tr>\n",
       "    <tr>\n",
       "      <th>7991</th>\n",
       "      <td>27.477</td>\n",
       "      <td>84.28</td>\n",
       "      <td>20</td>\n",
       "      <td>0</td>\n",
       "      <td>50.531</td>\n",
       "      <td>6.50</td>\n",
       "      <td>5.54</td>\n",
       "      <td>1.17</td>\n",
       "      <td>Privada</td>\n",
       "    </tr>\n",
       "  </tbody>\n",
       "</table>\n",
       "<p>7992 rows × 9 columns</p>\n",
       "</div>"
      ],
      "text/plain": [
       "        Area  perimetro  Cantidad_Vertices  Contornos_Interiores   Nivel  \\\n",
       "0     43.152      27.22                  9                     0   1.500   \n",
       "1     41.652      26.62                  6                     0   1.500   \n",
       "2     42.204      26.84                  7                     0   1.500   \n",
       "3     42.152      26.84                  8                     0   1.500   \n",
       "4     43.152      27.20                  8                     0   1.500   \n",
       "...      ...        ...                ...                   ...     ...   \n",
       "7987  32.584     122.46                 30                     0  29.880   \n",
       "7988  31.781     119.11                 24                     0  29.880   \n",
       "7989  27.561      85.07                 22                     0  50.531   \n",
       "7990  27.629      78.31                 18                     0  50.531   \n",
       "7991  27.477      84.28                 20                     0  50.531   \n",
       "\n",
       "      RMC_Largo  RMC_Alto  RMC_Ratio Tipo_Area_PH  \n",
       "0          8.01      5.61       1.43      Privada  \n",
       "1          7.80      5.52       1.41      Privada  \n",
       "2          7.90      5.52       1.43      Privada  \n",
       "3          7.90      5.52       1.43      Privada  \n",
       "4          8.00      5.62       1.42      Privada  \n",
       "...         ...       ...        ...          ...  \n",
       "7987       6.79      5.99       1.13      Privada  \n",
       "7988       7.10      5.84       1.22      Privada  \n",
       "7989       6.50      5.66       1.15      Privada  \n",
       "7990       6.56      5.56       1.18      Privada  \n",
       "7991       6.50      5.54       1.17      Privada  \n",
       "\n",
       "[7992 rows x 9 columns]"
      ]
     },
     "execution_count": 27,
     "metadata": {},
     "output_type": "execute_result"
    }
   ],
   "source": [
    "df"
   ]
  },
  {
   "cell_type": "code",
   "execution_count": 28,
   "id": "ccc96eaf",
   "metadata": {},
   "outputs": [
    {
     "data": {
      "text/html": [
       "<div>\n",
       "<style scoped>\n",
       "    .dataframe tbody tr th:only-of-type {\n",
       "        vertical-align: middle;\n",
       "    }\n",
       "\n",
       "    .dataframe tbody tr th {\n",
       "        vertical-align: top;\n",
       "    }\n",
       "\n",
       "    .dataframe thead th {\n",
       "        text-align: right;\n",
       "    }\n",
       "</style>\n",
       "<table border=\"1\" class=\"dataframe\">\n",
       "  <thead>\n",
       "    <tr style=\"text-align: right;\">\n",
       "      <th></th>\n",
       "      <th>Area</th>\n",
       "      <th>perimetro</th>\n",
       "      <th>Cantidad_Vertices</th>\n",
       "      <th>Contornos_Interiores</th>\n",
       "      <th>Nivel</th>\n",
       "      <th>RMC_Largo</th>\n",
       "      <th>RMC_Alto</th>\n",
       "      <th>RMC_Ratio</th>\n",
       "      <th>Tipo_Area_PH</th>\n",
       "    </tr>\n",
       "  </thead>\n",
       "  <tbody>\n",
       "    <tr>\n",
       "      <th>0</th>\n",
       "      <td>43.152</td>\n",
       "      <td>27.22</td>\n",
       "      <td>9</td>\n",
       "      <td>0</td>\n",
       "      <td>1.5</td>\n",
       "      <td>8.01</td>\n",
       "      <td>5.61</td>\n",
       "      <td>1.43</td>\n",
       "      <td>0</td>\n",
       "    </tr>\n",
       "    <tr>\n",
       "      <th>1</th>\n",
       "      <td>41.652</td>\n",
       "      <td>26.62</td>\n",
       "      <td>6</td>\n",
       "      <td>0</td>\n",
       "      <td>1.5</td>\n",
       "      <td>7.80</td>\n",
       "      <td>5.52</td>\n",
       "      <td>1.41</td>\n",
       "      <td>0</td>\n",
       "    </tr>\n",
       "    <tr>\n",
       "      <th>2</th>\n",
       "      <td>42.204</td>\n",
       "      <td>26.84</td>\n",
       "      <td>7</td>\n",
       "      <td>0</td>\n",
       "      <td>1.5</td>\n",
       "      <td>7.90</td>\n",
       "      <td>5.52</td>\n",
       "      <td>1.43</td>\n",
       "      <td>0</td>\n",
       "    </tr>\n",
       "    <tr>\n",
       "      <th>3</th>\n",
       "      <td>42.152</td>\n",
       "      <td>26.84</td>\n",
       "      <td>8</td>\n",
       "      <td>0</td>\n",
       "      <td>1.5</td>\n",
       "      <td>7.90</td>\n",
       "      <td>5.52</td>\n",
       "      <td>1.43</td>\n",
       "      <td>0</td>\n",
       "    </tr>\n",
       "    <tr>\n",
       "      <th>4</th>\n",
       "      <td>43.152</td>\n",
       "      <td>27.20</td>\n",
       "      <td>8</td>\n",
       "      <td>0</td>\n",
       "      <td>1.5</td>\n",
       "      <td>8.00</td>\n",
       "      <td>5.62</td>\n",
       "      <td>1.42</td>\n",
       "      <td>0</td>\n",
       "    </tr>\n",
       "  </tbody>\n",
       "</table>\n",
       "</div>"
      ],
      "text/plain": [
       "     Area  perimetro  Cantidad_Vertices  Contornos_Interiores  Nivel  \\\n",
       "0  43.152      27.22                  9                     0    1.5   \n",
       "1  41.652      26.62                  6                     0    1.5   \n",
       "2  42.204      26.84                  7                     0    1.5   \n",
       "3  42.152      26.84                  8                     0    1.5   \n",
       "4  43.152      27.20                  8                     0    1.5   \n",
       "\n",
       "   RMC_Largo  RMC_Alto  RMC_Ratio  Tipo_Area_PH  \n",
       "0       8.01      5.61       1.43             0  \n",
       "1       7.80      5.52       1.41             0  \n",
       "2       7.90      5.52       1.43             0  \n",
       "3       7.90      5.52       1.43             0  \n",
       "4       8.00      5.62       1.42             0  "
      ]
     },
     "execution_count": 28,
     "metadata": {},
     "output_type": "execute_result"
    }
   ],
   "source": [
    "# Convertir la columna Tipo_Area_PH (Target) a una clasificación binaria\n",
    "df['Tipo_Area_PH'] = df['Tipo_Area_PH'].apply(lambda x: 0 if x == \"Privada\" else 1)\n",
    "df.head()"
   ]
  },
  {
   "cell_type": "code",
   "execution_count": 29,
   "id": "f7cea2d2",
   "metadata": {},
   "outputs": [
    {
     "data": {
      "text/plain": [
       "0    5541\n",
       "1    2451\n",
       "Name: Tipo_Area_PH, dtype: int64"
      ]
     },
     "execution_count": 29,
     "metadata": {},
     "output_type": "execute_result"
    }
   ],
   "source": [
    "df['Tipo_Area_PH'].value_counts()"
   ]
  },
  {
   "cell_type": "code",
   "execution_count": 30,
   "id": "58ae98e9",
   "metadata": {},
   "outputs": [
    {
     "name": "stdout",
     "output_type": "stream",
     "text": [
      "<class 'pandas.core.frame.DataFrame'>\n",
      "RangeIndex: 7992 entries, 0 to 7991\n",
      "Data columns (total 9 columns):\n",
      " #   Column                Non-Null Count  Dtype  \n",
      "---  ------                --------------  -----  \n",
      " 0   Area                  7992 non-null   float64\n",
      " 1   perimetro             7992 non-null   float64\n",
      " 2   Cantidad_Vertices     7992 non-null   int64  \n",
      " 3   Contornos_Interiores  7992 non-null   int64  \n",
      " 4   Nivel                 7992 non-null   float64\n",
      " 5   RMC_Largo             7992 non-null   float64\n",
      " 6   RMC_Alto              7992 non-null   float64\n",
      " 7   RMC_Ratio             7992 non-null   float64\n",
      " 8   Tipo_Area_PH          7992 non-null   int64  \n",
      "dtypes: float64(6), int64(3)\n",
      "memory usage: 562.1 KB\n"
     ]
    }
   ],
   "source": [
    "df.info()"
   ]
  },
  {
   "cell_type": "code",
   "execution_count": 36,
   "id": "fe032f1b",
   "metadata": {},
   "outputs": [
    {
     "data": {
      "text/html": [
       "<div>\n",
       "<style scoped>\n",
       "    .dataframe tbody tr th:only-of-type {\n",
       "        vertical-align: middle;\n",
       "    }\n",
       "\n",
       "    .dataframe tbody tr th {\n",
       "        vertical-align: top;\n",
       "    }\n",
       "\n",
       "    .dataframe thead th {\n",
       "        text-align: right;\n",
       "    }\n",
       "</style>\n",
       "<table border=\"1\" class=\"dataframe\">\n",
       "  <thead>\n",
       "    <tr style=\"text-align: right;\">\n",
       "      <th></th>\n",
       "      <th>Area</th>\n",
       "      <th>perimetro</th>\n",
       "      <th>Cantidad_Vertices</th>\n",
       "      <th>Contornos_Interiores</th>\n",
       "      <th>Nivel</th>\n",
       "      <th>RMC_Largo</th>\n",
       "      <th>RMC_Alto</th>\n",
       "      <th>RMC_Ratio</th>\n",
       "      <th>Tipo_Area_PH</th>\n",
       "    </tr>\n",
       "  </thead>\n",
       "  <tbody>\n",
       "    <tr>\n",
       "      <th>count</th>\n",
       "      <td>7992.000000</td>\n",
       "      <td>7992.000000</td>\n",
       "      <td>7992.000000</td>\n",
       "      <td>7992.000000</td>\n",
       "      <td>7992.000000</td>\n",
       "      <td>7992.000000</td>\n",
       "      <td>7992.000000</td>\n",
       "      <td>7992.000000</td>\n",
       "      <td>7992.000000</td>\n",
       "    </tr>\n",
       "    <tr>\n",
       "      <th>mean</th>\n",
       "      <td>234.178494</td>\n",
       "      <td>56.431368</td>\n",
       "      <td>17.563188</td>\n",
       "      <td>0.258509</td>\n",
       "      <td>10.773884</td>\n",
       "      <td>11.459347</td>\n",
       "      <td>6.991767</td>\n",
       "      <td>2.753493</td>\n",
       "      <td>0.306682</td>\n",
       "    </tr>\n",
       "    <tr>\n",
       "      <th>std</th>\n",
       "      <td>1766.538488</td>\n",
       "      <td>83.237479</td>\n",
       "      <td>17.078412</td>\n",
       "      <td>3.351511</td>\n",
       "      <td>15.171983</td>\n",
       "      <td>23.275347</td>\n",
       "      <td>14.656829</td>\n",
       "      <td>7.065682</td>\n",
       "      <td>0.461145</td>\n",
       "    </tr>\n",
       "    <tr>\n",
       "      <th>min</th>\n",
       "      <td>0.110000</td>\n",
       "      <td>1.300000</td>\n",
       "      <td>3.000000</td>\n",
       "      <td>0.000000</td>\n",
       "      <td>-7.000000</td>\n",
       "      <td>0.360000</td>\n",
       "      <td>0.110000</td>\n",
       "      <td>1.000000</td>\n",
       "      <td>0.000000</td>\n",
       "    </tr>\n",
       "    <tr>\n",
       "      <th>25%</th>\n",
       "      <td>12.500000</td>\n",
       "      <td>20.275000</td>\n",
       "      <td>8.000000</td>\n",
       "      <td>0.000000</td>\n",
       "      <td>0.000000</td>\n",
       "      <td>5.850000</td>\n",
       "      <td>2.580000</td>\n",
       "      <td>1.170000</td>\n",
       "      <td>0.000000</td>\n",
       "    </tr>\n",
       "    <tr>\n",
       "      <th>50%</th>\n",
       "      <td>35.104000</td>\n",
       "      <td>30.260000</td>\n",
       "      <td>14.000000</td>\n",
       "      <td>0.000000</td>\n",
       "      <td>2.450000</td>\n",
       "      <td>7.710000</td>\n",
       "      <td>6.020000</td>\n",
       "      <td>1.440000</td>\n",
       "      <td>0.000000</td>\n",
       "    </tr>\n",
       "    <tr>\n",
       "      <th>75%</th>\n",
       "      <td>46.919000</td>\n",
       "      <td>41.390000</td>\n",
       "      <td>21.000000</td>\n",
       "      <td>0.000000</td>\n",
       "      <td>18.100000</td>\n",
       "      <td>9.350000</td>\n",
       "      <td>6.440000</td>\n",
       "      <td>1.980000</td>\n",
       "      <td>1.000000</td>\n",
       "    </tr>\n",
       "    <tr>\n",
       "      <th>max</th>\n",
       "      <td>59436.953000</td>\n",
       "      <td>997.710000</td>\n",
       "      <td>309.000000</td>\n",
       "      <td>127.000000</td>\n",
       "      <td>66.301000</td>\n",
       "      <td>337.580000</td>\n",
       "      <td>242.380000</td>\n",
       "      <td>241.670000</td>\n",
       "      <td>1.000000</td>\n",
       "    </tr>\n",
       "  </tbody>\n",
       "</table>\n",
       "</div>"
      ],
      "text/plain": [
       "               Area    perimetro  Cantidad_Vertices  Contornos_Interiores  \\\n",
       "count   7992.000000  7992.000000        7992.000000           7992.000000   \n",
       "mean     234.178494    56.431368          17.563188              0.258509   \n",
       "std     1766.538488    83.237479          17.078412              3.351511   \n",
       "min        0.110000     1.300000           3.000000              0.000000   \n",
       "25%       12.500000    20.275000           8.000000              0.000000   \n",
       "50%       35.104000    30.260000          14.000000              0.000000   \n",
       "75%       46.919000    41.390000          21.000000              0.000000   \n",
       "max    59436.953000   997.710000         309.000000            127.000000   \n",
       "\n",
       "             Nivel    RMC_Largo     RMC_Alto    RMC_Ratio  Tipo_Area_PH  \n",
       "count  7992.000000  7992.000000  7992.000000  7992.000000   7992.000000  \n",
       "mean     10.773884    11.459347     6.991767     2.753493      0.306682  \n",
       "std      15.171983    23.275347    14.656829     7.065682      0.461145  \n",
       "min      -7.000000     0.360000     0.110000     1.000000      0.000000  \n",
       "25%       0.000000     5.850000     2.580000     1.170000      0.000000  \n",
       "50%       2.450000     7.710000     6.020000     1.440000      0.000000  \n",
       "75%      18.100000     9.350000     6.440000     1.980000      1.000000  \n",
       "max      66.301000   337.580000   242.380000   241.670000      1.000000  "
      ]
     },
     "execution_count": 36,
     "metadata": {},
     "output_type": "execute_result"
    }
   ],
   "source": [
    "df.describe()"
   ]
  },
  {
   "cell_type": "code",
   "execution_count": 32,
   "id": "1c2b0f9e",
   "metadata": {},
   "outputs": [],
   "source": [
    "# Transformar los valores de Nivel a categorías para no tomar el valor absoluto sino la relación al nivel de acceso, y asi unificar el criterio sin importar el proyecto\n",
    "#df['Nivel']"
   ]
  },
  {
   "cell_type": "code",
   "execution_count": 46,
   "id": "bf05afa6",
   "metadata": {},
   "outputs": [
    {
     "name": "stdout",
     "output_type": "stream",
     "text": [
      "Area  - Valores Distintos:  3001\n",
      "perimetro  - Valores Distintos:  2053\n",
      "Cantidad_Vertices  - Valores Distintos:  105\n",
      "Contornos_Interiores  - Valores Distintos:  35\n",
      "Nivel  - Valores Distintos:  123\n",
      "RMC_Largo  - Valores Distintos:  954\n",
      "RMC_Alto  - Valores Distintos:  727\n",
      "RMC_Ratio  - Valores Distintos:  473\n",
      "Tipo_Area_PH  - Valores Distintos:  2\n"
     ]
    }
   ],
   "source": [
    "for feature in df.columns:\n",
    "    print(feature, \" - Valores Distintos: \", len(df[feature].value_counts()))"
   ]
  },
  {
   "cell_type": "code",
   "execution_count": 41,
   "id": "ba776cc4",
   "metadata": {},
   "outputs": [
    {
     "data": {
      "image/png": "[encoded data removed]",
      "text/plain": [
       "<Figure size 1440x864 with 9 Axes>"
      ]
     },
     "metadata": {
      "needs_background": "light"
     },
     "output_type": "display_data"
    }
   ],
   "source": [
    "df.hist(bins=10, figsize=(20, 12))\n",
    "plt.show()"
   ]
  },
  {
   "cell_type": "code",
   "execution_count": null,
   "id": "05fea970",
   "metadata": {},
   "outputs": [
    {
     "data": {
      "text/plain": [
       "<AxesSubplot:xlabel='Area', ylabel='Tipo_Area_PH'>"
      ]
     },
     "execution_count": 51,
     "metadata": {},
     "output_type": "execute_result"
    }
   ],
   "source": [
    "# Revisar la distribución y los valores atípicos\n",
    "sns.boxplot(data=df, x=\"Area\", y=\"Tipo_Area_PH\")"
   ]
  },
  {
   "cell_type": "markdown",
   "id": "c5492161",
   "metadata": {},
   "source": [
    "## Análisis"
   ]
  },
  {
   "cell_type": "code",
   "execution_count": 37,
   "id": "980a9e9e",
   "metadata": {},
   "outputs": [
    {
     "data": {
      "image/png": "[encoded data removed]",
      "text/plain": [
       "<Figure size 864x576 with 2 Axes>"
      ]
     },
     "metadata": {
      "needs_background": "light"
     },
     "output_type": "display_data"
    }
   ],
   "source": [
    "# Correlación\n",
    "plt.figure(figsize=(12, 8))\n",
    "heatmap = sns.heatmap(df.corr(), vmin=-1, vmax=1, annot=True)\n",
    "heatmap.set_title('Correlation Heatmap', fontdict={'fontsize':12}, pad=12)\n",
    "plt.show()"
   ]
  },
  {
   "cell_type": "markdown",
   "id": "80a829fd",
   "metadata": {},
   "source": [
    "## Selección de Variables"
   ]
  },
  {
   "cell_type": "markdown",
   "id": "1ba81be2",
   "metadata": {},
   "source": [
    "## Creación de Modelo"
   ]
  },
  {
   "cell_type": "markdown",
   "id": "000dc8e1",
   "metadata": {},
   "source": [
    "## Creación de Pipeline"
   ]
  },
  {
   "cell_type": "markdown",
   "id": "ec911517",
   "metadata": {},
   "source": [
    "## Evaluación de Modelos"
   ]
  },
  {
   "cell_type": "markdown",
   "id": "5809f48b",
   "metadata": {},
   "source": [
    "## Ajuste de Hiperparámetros"
   ]
  },
  {
   "cell_type": "markdown",
   "id": "1e456c75",
   "metadata": {},
   "source": [
    "## Creación de Joblib"
   ]
  }
 ],
 "metadata": {
  "kernelspec": {
   "display_name": "conda_python3",
   "language": "python",
   "name": "conda_python3"
  },
  "language_info": {
   "codemirror_mode": {
    "name": "ipython",
    "version": 3
   },
   "file_extension": ".py",
   "mimetype": "text/x-python",
   "name": "python",
   "nbconvert_exporter": "python",
   "pygments_lexer": "ipython3",
   "version": "3.8.12"
  }
 },
 "nbformat": 4,
 "nbformat_minor": 5
}
