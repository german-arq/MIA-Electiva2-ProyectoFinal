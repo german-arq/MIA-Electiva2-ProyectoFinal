{
 "cells": [
  {
   "cell_type": "code",
   "execution_count": 9,
   "id": "71186f7c",
   "metadata": {},
   "outputs": [],
   "source": [
    "import sagemaker\n",
    "from sagemaker.sklearn import SKLearnModel\n",
    "from sagemaker.serializers import CSVSerializer"
   ]
  },
  {
   "cell_type": "code",
   "execution_count": 10,
   "id": "ad9e076d",
   "metadata": {},
   "outputs": [],
   "source": [
    "session = sagemaker.Session()"
   ]
  },
  {
   "cell_type": "code",
   "execution_count": 11,
   "id": "7af54683",
   "metadata": {},
   "outputs": [],
   "source": [
    "s3_uri_model = session.upload_data(bucket=\"electiva2-proyecto-final\",\n",
    "                   key_prefix=\"Model\",\n",
    "                   path=\"model.tar.gz\")"
   ]
  },
  {
   "cell_type": "code",
   "execution_count": 12,
   "id": "9e5365bf",
   "metadata": {},
   "outputs": [
    {
     "name": "stdout",
     "output_type": "stream",
     "text": [
      "Overwriting entry_point.py\n"
     ]
    }
   ],
   "source": [
    "%%writefile entry_point.py\n",
    "import joblib\n",
    "import os\n",
    "def model_fn(model_path):\n",
    "    return joblib.load(os.path.join(model_path, 'model.joblib'))"
   ]
  },
  {
   "cell_type": "code",
   "execution_count": 13,
   "id": "d5d73bc2",
   "metadata": {},
   "outputs": [],
   "source": [
    "model = SKLearnModel(entry_point='entry_point.py',\n",
    "                    role='LabRole',\n",
    "                    framework_version='1.0-1',\n",
    "                    model_data=s3_uri_model)"
   ]
  },
  {
   "cell_type": "code",
   "execution_count": null,
   "id": "535c0d14",
   "metadata": {},
   "outputs": [],
   "source": [
    "predictor = model.deploy(initial_instance_count=1, instance_type=\"ml.t2.medium\")"
   ]
  },
  {
   "cell_type": "code",
   "execution_count": null,
   "id": "ccadc570",
   "metadata": {},
   "outputs": [],
   "source": [
    "predictor.serializer = CSVSerializer()"
   ]
  }
 ],
 "metadata": {
  "kernelspec": {
   "display_name": "conda_python3",
   "language": "python",
   "name": "conda_python3"
  },
  "language_info": {
   "codemirror_mode": {
    "name": "ipython",
    "version": 3
   },
   "file_extension": ".py",
   "mimetype": "text/x-python",
   "name": "python",
   "nbconvert_exporter": "python",
   "pygments_lexer": "ipython3",
   "version": "3.8.12"
  }
 },
 "nbformat": 4,
 "nbformat_minor": 5
}
