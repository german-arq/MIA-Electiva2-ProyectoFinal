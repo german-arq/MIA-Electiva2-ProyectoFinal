{
 "cells": [
  {
   "cell_type": "markdown",
   "id": "a2199ce9",
   "metadata": {},
   "source": [
    "# PROYECTO FINAL - PREDICCIÓN DE TIPO DE BIEN DE PROPIEDAD HORIZONTAL\n",
    "**Maestria en Inteligencia Artificial - Electiva 2** \\\n",
    "*Estudiante:* Germán Andrés Rojas Mahecha"
   ]
  },
  {
   "cell_type": "markdown",
   "id": "938d2c87",
   "metadata": {},
   "source": [
    "## Caso de Uso\n"
   ]
  },
  {
   "cell_type": "code",
   "execution_count": null,
   "id": "4e327049",
   "metadata": {},
   "outputs": [],
   "source": [
    "El "
   ]
  },
  {
   "cell_type": "markdown",
   "id": "14d3a21f",
   "metadata": {},
   "source": [
    "## Contenido del Dataset"
   ]
  },
  {
   "cell_type": "markdown",
   "id": "25c70053",
   "metadata": {},
   "source": [
    "*El Dataset describe las caracteristicas geometricas mas importantes que describen a un elemento espacial de PH. A continuación se describen las caracteristicas:* \\\n",
    "**Area**: Superficie que cubre el elemento espacial expresada en m2. \\\n",
    "**Perimetro**: Suma de la longitud de todos sus lados expresada en m. \\\n",
    "**Cantidad_Vertices**: Número de vertices que conforman el poligono. A mayor cantidad de vertices mas irregular es el poligono. \\\n",
    "**Contornos_Internos**: Numero de \"huecos\" al interior del elemento espacial, indicando áreas que no son parte de su superficie. \\\n",
    "**Nivel**: Altura en metros sobre el nivel 0 del terreno. Una altura negativa indica que el elemento se encuentra en un sótano, una altura entre 0 y 1.5 metros indica que se encuentra en el nivel de acceso del proyecto, y una altura superior a 1.5 metros indica que se encuentra en el Piso 2 o superior (requiere escalera o ascensor para acceder) \\\n",
    "**RMC_Largo**: Longitud (Lado en el eje X del plano orientado en la misma dirección del elemento) del Rectangulo Minimo que contiene al elemento espacial. \\\n",
    "**RMC_Alto**: Alto (Lado en el eje Y del plano orientado en la misma dirección del elemento) del Rectangulo Minimo que contiene al elemento espacial. \\\n",
    "**RMC_Ratio**: Relación entre el largo y el alto de del Rectangulo Minimo Contenedor \\\n",
    "**Objeto_rvt**: Categorización del elemento en el software donde se modelan los elementos espaciales. NO es relevante. \\\n",
    "**Tipo_Area_PH**: Categoría de Bien de PH. Caracteristica a predecir.\n"
   ]
  },
  {
   "cell_type": "markdown",
   "id": "d3b7afba",
   "metadata": {},
   "source": [
    "## Exploración"
   ]
  },
  {
   "cell_type": "code",
   "execution_count": 1,
   "id": "a77ca8d1",
   "metadata": {},
   "outputs": [],
   "source": [
    "# Cargar las librerias requeridas\n",
    "import pandas as pd"
   ]
  },
  {
   "cell_type": "code",
   "execution_count": 6,
   "id": "24bb6912",
   "metadata": {},
   "outputs": [],
   "source": [
    "# Cargar el dataset\n",
    "df = pd.read_csv(\"s3://electiva2-proyecto-final/Data/spatial_elements_ph.csv\")"
   ]
  },
  {
   "cell_type": "code",
   "execution_count": 8,
   "id": "39ddf99a",
   "metadata": {},
   "outputs": [
    {
     "data": {
      "text/html": [
       "<div>\n",
       "<style scoped>\n",
       "    .dataframe tbody tr th:only-of-type {\n",
       "        vertical-align: middle;\n",
       "    }\n",
       "\n",
       "    .dataframe tbody tr th {\n",
       "        vertical-align: top;\n",
       "    }\n",
       "\n",
       "    .dataframe thead th {\n",
       "        text-align: right;\n",
       "    }\n",
       "</style>\n",
       "<table border=\"1\" class=\"dataframe\">\n",
       "  <thead>\n",
       "    <tr style=\"text-align: right;\">\n",
       "      <th></th>\n",
       "      <th>Area</th>\n",
       "      <th>perimetro</th>\n",
       "      <th>Cantidad_Vertices</th>\n",
       "      <th>Contornos_Interiores</th>\n",
       "      <th>Nivel</th>\n",
       "      <th>RMC_Largo</th>\n",
       "      <th>RMC_Alto</th>\n",
       "      <th>RMC_Ratio</th>\n",
       "      <th>Objeto_rvt</th>\n",
       "      <th>Tipo_Area_PH</th>\n",
       "    </tr>\n",
       "  </thead>\n",
       "  <tbody>\n",
       "    <tr>\n",
       "      <th>0</th>\n",
       "      <td>43.152</td>\n",
       "      <td>27.22</td>\n",
       "      <td>9</td>\n",
       "      <td>0</td>\n",
       "      <td>1.500</td>\n",
       "      <td>8.01</td>\n",
       "      <td>5.61</td>\n",
       "      <td>1.43</td>\n",
       "      <td>Areas</td>\n",
       "      <td>Privada</td>\n",
       "    </tr>\n",
       "    <tr>\n",
       "      <th>1</th>\n",
       "      <td>41.652</td>\n",
       "      <td>26.62</td>\n",
       "      <td>6</td>\n",
       "      <td>0</td>\n",
       "      <td>1.500</td>\n",
       "      <td>7.80</td>\n",
       "      <td>5.52</td>\n",
       "      <td>1.41</td>\n",
       "      <td>Areas</td>\n",
       "      <td>Privada</td>\n",
       "    </tr>\n",
       "    <tr>\n",
       "      <th>2</th>\n",
       "      <td>42.204</td>\n",
       "      <td>26.84</td>\n",
       "      <td>7</td>\n",
       "      <td>0</td>\n",
       "      <td>1.500</td>\n",
       "      <td>7.90</td>\n",
       "      <td>5.52</td>\n",
       "      <td>1.43</td>\n",
       "      <td>Areas</td>\n",
       "      <td>Privada</td>\n",
       "    </tr>\n",
       "    <tr>\n",
       "      <th>3</th>\n",
       "      <td>42.152</td>\n",
       "      <td>26.84</td>\n",
       "      <td>8</td>\n",
       "      <td>0</td>\n",
       "      <td>1.500</td>\n",
       "      <td>7.90</td>\n",
       "      <td>5.52</td>\n",
       "      <td>1.43</td>\n",
       "      <td>Areas</td>\n",
       "      <td>Privada</td>\n",
       "    </tr>\n",
       "    <tr>\n",
       "      <th>4</th>\n",
       "      <td>43.152</td>\n",
       "      <td>27.20</td>\n",
       "      <td>8</td>\n",
       "      <td>0</td>\n",
       "      <td>1.500</td>\n",
       "      <td>8.00</td>\n",
       "      <td>5.62</td>\n",
       "      <td>1.42</td>\n",
       "      <td>Areas</td>\n",
       "      <td>Privada</td>\n",
       "    </tr>\n",
       "    <tr>\n",
       "      <th>...</th>\n",
       "      <td>...</td>\n",
       "      <td>...</td>\n",
       "      <td>...</td>\n",
       "      <td>...</td>\n",
       "      <td>...</td>\n",
       "      <td>...</td>\n",
       "      <td>...</td>\n",
       "      <td>...</td>\n",
       "      <td>...</td>\n",
       "      <td>...</td>\n",
       "    </tr>\n",
       "    <tr>\n",
       "      <th>7987</th>\n",
       "      <td>32.584</td>\n",
       "      <td>122.46</td>\n",
       "      <td>30</td>\n",
       "      <td>0</td>\n",
       "      <td>29.880</td>\n",
       "      <td>6.79</td>\n",
       "      <td>5.99</td>\n",
       "      <td>1.13</td>\n",
       "      <td>Detail Items</td>\n",
       "      <td>Privada</td>\n",
       "    </tr>\n",
       "    <tr>\n",
       "      <th>7988</th>\n",
       "      <td>31.781</td>\n",
       "      <td>119.11</td>\n",
       "      <td>24</td>\n",
       "      <td>0</td>\n",
       "      <td>29.880</td>\n",
       "      <td>7.10</td>\n",
       "      <td>5.84</td>\n",
       "      <td>1.22</td>\n",
       "      <td>Detail Items</td>\n",
       "      <td>Privada</td>\n",
       "    </tr>\n",
       "    <tr>\n",
       "      <th>7989</th>\n",
       "      <td>27.561</td>\n",
       "      <td>85.07</td>\n",
       "      <td>22</td>\n",
       "      <td>0</td>\n",
       "      <td>50.531</td>\n",
       "      <td>6.50</td>\n",
       "      <td>5.66</td>\n",
       "      <td>1.15</td>\n",
       "      <td>Detail Items</td>\n",
       "      <td>Privada</td>\n",
       "    </tr>\n",
       "    <tr>\n",
       "      <th>7990</th>\n",
       "      <td>27.629</td>\n",
       "      <td>78.31</td>\n",
       "      <td>18</td>\n",
       "      <td>0</td>\n",
       "      <td>50.531</td>\n",
       "      <td>6.56</td>\n",
       "      <td>5.56</td>\n",
       "      <td>1.18</td>\n",
       "      <td>Detail Items</td>\n",
       "      <td>Privada</td>\n",
       "    </tr>\n",
       "    <tr>\n",
       "      <th>7991</th>\n",
       "      <td>27.477</td>\n",
       "      <td>84.28</td>\n",
       "      <td>20</td>\n",
       "      <td>0</td>\n",
       "      <td>50.531</td>\n",
       "      <td>6.50</td>\n",
       "      <td>5.54</td>\n",
       "      <td>1.17</td>\n",
       "      <td>Detail Items</td>\n",
       "      <td>Privada</td>\n",
       "    </tr>\n",
       "  </tbody>\n",
       "</table>\n",
       "<p>7992 rows × 10 columns</p>\n",
       "</div>"
      ],
      "text/plain": [
       "        Area  perimetro  Cantidad_Vertices  Contornos_Interiores   Nivel  \\\n",
       "0     43.152      27.22                  9                     0   1.500   \n",
       "1     41.652      26.62                  6                     0   1.500   \n",
       "2     42.204      26.84                  7                     0   1.500   \n",
       "3     42.152      26.84                  8                     0   1.500   \n",
       "4     43.152      27.20                  8                     0   1.500   \n",
       "...      ...        ...                ...                   ...     ...   \n",
       "7987  32.584     122.46                 30                     0  29.880   \n",
       "7988  31.781     119.11                 24                     0  29.880   \n",
       "7989  27.561      85.07                 22                     0  50.531   \n",
       "7990  27.629      78.31                 18                     0  50.531   \n",
       "7991  27.477      84.28                 20                     0  50.531   \n",
       "\n",
       "      RMC_Largo  RMC_Alto  RMC_Ratio    Objeto_rvt Tipo_Area_PH  \n",
       "0          8.01      5.61       1.43         Areas      Privada  \n",
       "1          7.80      5.52       1.41         Areas      Privada  \n",
       "2          7.90      5.52       1.43         Areas      Privada  \n",
       "3          7.90      5.52       1.43         Areas      Privada  \n",
       "4          8.00      5.62       1.42         Areas      Privada  \n",
       "...         ...       ...        ...           ...          ...  \n",
       "7987       6.79      5.99       1.13  Detail Items      Privada  \n",
       "7988       7.10      5.84       1.22  Detail Items      Privada  \n",
       "7989       6.50      5.66       1.15  Detail Items      Privada  \n",
       "7990       6.56      5.56       1.18  Detail Items      Privada  \n",
       "7991       6.50      5.54       1.17  Detail Items      Privada  \n",
       "\n",
       "[7992 rows x 10 columns]"
      ]
     },
     "execution_count": 8,
     "metadata": {},
     "output_type": "execute_result"
    }
   ],
   "source": [
    "df"
   ]
  },
  {
   "cell_type": "markdown",
   "id": "bc74f60a",
   "metadata": {},
   "source": [
    "## Análisis"
   ]
  },
  {
   "cell_type": "markdown",
   "id": "36f31b91",
   "metadata": {},
   "source": [
    "## Selección de Variables"
   ]
  },
  {
   "cell_type": "markdown",
   "id": "eac5c992",
   "metadata": {},
   "source": [
    "## Creación de Modelo"
   ]
  },
  {
   "cell_type": "markdown",
   "id": "72395235",
   "metadata": {},
   "source": [
    "## Creación de Pipeline"
   ]
  },
  {
   "cell_type": "markdown",
   "id": "9d3558da",
   "metadata": {},
   "source": [
    "## Evaluación de Modelos"
   ]
  },
  {
   "cell_type": "markdown",
   "id": "c63cdd6f",
   "metadata": {},
   "source": [
    "## Ajuste de Hiperparámetros"
   ]
  },
  {
   "cell_type": "markdown",
   "id": "1ff26e76",
   "metadata": {},
   "source": [
    "## Creación de Joblib"
   ]
  }
 ],
 "metadata": {
  "kernelspec": {
   "display_name": "conda_python3",
   "language": "python",
   "name": "conda_python3"
  },
  "language_info": {
   "codemirror_mode": {
    "name": "ipython",
    "version": 3
   },
   "file_extension": ".py",
   "mimetype": "text/x-python",
   "name": "python",
   "nbconvert_exporter": "python",
   "pygments_lexer": "ipython3",
   "version": "3.8.12"
  }
 },
 "nbformat": 4,
 "nbformat_minor": 5
}
